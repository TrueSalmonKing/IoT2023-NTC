{
  "nbformat": 4,
  "nbformat_minor": 0,
  "metadata": {
    "colab": {
      "provenance": [],
      "gpuType": "V28"
    },
    "kernelspec": {
      "name": "python3",
      "display_name": "Python 3"
    },
    "language_info": {
      "name": "python"
    },
    "accelerator": "TPU"
  },
  "cells": [
    {
      "cell_type": "markdown",
      "source": [
        "# Preperatory steps"
      ],
      "metadata": {
        "id": "jCSag_IafH7b"
      }
    },
    {
      "cell_type": "markdown",
      "source": [
        "### Downloading the dataset(s)\n",
        "\n",
        "The dataset we will use be compromised of different samples collected from ...\n",
        "\n",
        "\n",
        "Containing the following labels:\n",
        "* ..."
      ],
      "metadata": {
        "id": "PDmdkqmJfCx3"
      }
    },
    {
      "cell_type": "code",
      "execution_count": 2,
      "metadata": {
        "id": "UZR-qarNapf-",
        "colab": {
          "base_uri": "https://localhost:8080/"
        },
        "outputId": "955b616b-8b5a-4a7c-daba-d45161beff95"
      },
      "outputs": [
        {
          "output_type": "stream",
          "name": "stderr",
          "text": [
            "Retrieving folder contents\n"
          ]
        },
        {
          "output_type": "stream",
          "name": "stdout",
          "text": [
            "Processing file 1lJXBo-KtxkGtIDFuVYHsnhpekIxPJ7O4 Network_dataset_1.csv\n",
            "Processing file 1DVJunRT1BK59SRu60HgKZx0la6v21aOq Network_dataset_2.csv\n",
            "Processing file 1tpOPVLXBD_k0B-lhen7XXgfNIss5KO7A Network_dataset_3.csv\n",
            "Processing file 1h7TETtdKD7zh8iwZ_3lCbeUQnGrdwv3y Network_dataset_4.csv\n",
            "Processing file 1a7YwT4BbwaqKaotXoOHMHxfdXjMd8uFC Network_dataset_5.csv\n",
            "Processing file 15sJWlRugKHKiIpJW7BU-bp6LrGWt8Qmo Network_dataset_6.csv\n",
            "Processing file 17gI9zED79fxtWCer8zYx3MyHAOrnS6hK Network_dataset_7.csv\n",
            "Processing file 1fIP3ogm8xjvgKOgmCNFHUUzQ8CIv_hUT Network_dataset_8.csv\n",
            "Processing file 1JnnDnWogix81VQi_IwGkca-gYzK0tpTg Network_dataset_9.csv\n",
            "Processing file 1Dh6UITnN00r7d1Q11kk914UantDUUk_W Network_dataset_10.csv\n",
            "Processing file 1dbX2yj3chJ8nel5yQaLakPiQCSaWfsSo Network_dataset_11.csv\n",
            "Processing file 1BXVV6F-mKG6vKE1u4ZUm4xBdnOkcVMNI Network_dataset_12.csv\n",
            "Processing file 1QulS2yGIXNvgQ7lV5I42C_JhBIuqMtIL Network_dataset_13.csv\n",
            "Processing file 1pS2UERFScFsiGvuzSqjdXEaWgD1Fb9KM Network_dataset_14.csv\n",
            "Processing file 1f0C2w7s7-yBUjyNDnSqNVbsj_AXzvtcu Network_dataset_15.csv\n",
            "Processing file 1jgACc12G9RqDC80av3xWQEsJUL74jkK8 Network_dataset_16.csv\n",
            "Processing file 1RRbaVTIBQpysZK35pTQ6jMwLdv0pljnI Network_dataset_17.csv\n",
            "Processing file 1UttY-fFlrE4wCWB-8Z5-_xHtWzetCGfB Network_dataset_18.csv\n",
            "Processing file 1aV6sxsLI7kwlVmOHiNtEn7-Vh5dwez9M Network_dataset_19.csv\n",
            "Processing file 11_q8w1QHVy2TL6Zt5aWhuB2662M2Nt08 Network_dataset_20.csv\n",
            "Processing file 1IRLpw-N-PEyE0Mm-erGI0zGAfhjgUE0N Network_dataset_21.csv\n",
            "Processing file 1_ss0foHv0c3hLrn_qIXyv8OWnJGXo4r2 Network_dataset_22.csv\n",
            "Processing file 1NFNPBIOJ4ZpFImFF0KUY_Cwr1LzJKFiH Network_dataset_23.csv\n"
          ]
        },
        {
          "output_type": "stream",
          "name": "stderr",
          "text": [
            "Retrieving folder contents completed\n",
            "Building directory structure\n",
            "Building directory structure completed\n",
            "Downloading...\n",
            "From (original): https://drive.google.com/uc?id=1lJXBo-KtxkGtIDFuVYHsnhpekIxPJ7O4\n",
            "From (redirected): https://drive.google.com/uc?id=1lJXBo-KtxkGtIDFuVYHsnhpekIxPJ7O4&confirm=t&uuid=991d8040-8a38-4cfc-a239-e0df62239b1b\n",
            "To: /content/TON_IoT/Network_dataset_1.csv\n",
            "100%|██████████| 147M/147M [00:02<00:00, 60.9MB/s]\n",
            "Downloading...\n",
            "From (original): https://drive.google.com/uc?id=1DVJunRT1BK59SRu60HgKZx0la6v21aOq\n",
            "From (redirected): https://drive.google.com/uc?id=1DVJunRT1BK59SRu60HgKZx0la6v21aOq&confirm=t&uuid=4b51b5f1-c9f1-4362-b454-ac9a36681cfa\n",
            "To: /content/TON_IoT/Network_dataset_2.csv\n",
            "100%|██████████| 145M/145M [00:01<00:00, 85.6MB/s]\n",
            "Downloading...\n",
            "From (original): https://drive.google.com/uc?id=1tpOPVLXBD_k0B-lhen7XXgfNIss5KO7A\n",
            "From (redirected): https://drive.google.com/uc?id=1tpOPVLXBD_k0B-lhen7XXgfNIss5KO7A&confirm=t&uuid=96b83889-40d6-4006-94fc-57a8d153396c\n",
            "To: /content/TON_IoT/Network_dataset_3.csv\n",
            "100%|██████████| 146M/146M [00:00<00:00, 164MB/s]\n",
            "Downloading...\n",
            "From (original): https://drive.google.com/uc?id=1h7TETtdKD7zh8iwZ_3lCbeUQnGrdwv3y\n",
            "From (redirected): https://drive.google.com/uc?id=1h7TETtdKD7zh8iwZ_3lCbeUQnGrdwv3y&confirm=t&uuid=8ec13985-fbfc-4e9c-8b21-c27162235a18\n",
            "To: /content/TON_IoT/Network_dataset_4.csv\n",
            "100%|██████████| 145M/145M [00:01<00:00, 93.5MB/s]\n",
            "Downloading...\n",
            "From (original): https://drive.google.com/uc?id=1a7YwT4BbwaqKaotXoOHMHxfdXjMd8uFC\n",
            "From (redirected): https://drive.google.com/uc?id=1a7YwT4BbwaqKaotXoOHMHxfdXjMd8uFC&confirm=t&uuid=14c61b0d-7a38-471c-8e38-24cd81618ccb\n",
            "To: /content/TON_IoT/Network_dataset_5.csv\n",
            "100%|██████████| 145M/145M [00:01<00:00, 100MB/s] \n",
            "Downloading...\n",
            "From (original): https://drive.google.com/uc?id=15sJWlRugKHKiIpJW7BU-bp6LrGWt8Qmo\n",
            "From (redirected): https://drive.google.com/uc?id=15sJWlRugKHKiIpJW7BU-bp6LrGWt8Qmo&confirm=t&uuid=f28a2014-688f-4f5e-b989-317f5ca1f9dd\n",
            "To: /content/TON_IoT/Network_dataset_6.csv\n",
            "100%|██████████| 166M/166M [00:00<00:00, 198MB/s]\n",
            "Downloading...\n",
            "From (original): https://drive.google.com/uc?id=17gI9zED79fxtWCer8zYx3MyHAOrnS6hK\n",
            "From (redirected): https://drive.google.com/uc?id=17gI9zED79fxtWCer8zYx3MyHAOrnS6hK&confirm=t&uuid=adb1d404-e234-498d-91b0-76461593c8e7\n",
            "To: /content/TON_IoT/Network_dataset_7.csv\n",
            "100%|██████████| 147M/147M [00:01<00:00, 84.7MB/s]\n",
            "Downloading...\n",
            "From (original): https://drive.google.com/uc?id=1fIP3ogm8xjvgKOgmCNFHUUzQ8CIv_hUT\n",
            "From (redirected): https://drive.google.com/uc?id=1fIP3ogm8xjvgKOgmCNFHUUzQ8CIv_hUT&confirm=t&uuid=56800cd2-2026-4ce5-b5f0-7cccde155952\n",
            "To: /content/TON_IoT/Network_dataset_8.csv\n",
            "100%|██████████| 147M/147M [00:01<00:00, 98.6MB/s]\n",
            "Downloading...\n",
            "From (original): https://drive.google.com/uc?id=1JnnDnWogix81VQi_IwGkca-gYzK0tpTg\n",
            "From (redirected): https://drive.google.com/uc?id=1JnnDnWogix81VQi_IwGkca-gYzK0tpTg&confirm=t&uuid=221dd033-a091-45ee-9132-cae8da314592\n",
            "To: /content/TON_IoT/Network_dataset_9.csv\n",
            "100%|██████████| 147M/147M [00:00<00:00, 156MB/s]\n",
            "Downloading...\n",
            "From (original): https://drive.google.com/uc?id=1Dh6UITnN00r7d1Q11kk914UantDUUk_W\n",
            "From (redirected): https://drive.google.com/uc?id=1Dh6UITnN00r7d1Q11kk914UantDUUk_W&confirm=t&uuid=e8417baf-e5f7-404c-8b23-3b2bcec82878\n",
            "To: /content/TON_IoT/Network_dataset_10.csv\n",
            "100%|██████████| 147M/147M [00:00<00:00, 150MB/s]\n",
            "Downloading...\n",
            "From (original): https://drive.google.com/uc?id=1dbX2yj3chJ8nel5yQaLakPiQCSaWfsSo\n",
            "From (redirected): https://drive.google.com/uc?id=1dbX2yj3chJ8nel5yQaLakPiQCSaWfsSo&confirm=t&uuid=063d8a7f-a46e-4b30-b517-77aab308deb0\n",
            "To: /content/TON_IoT/Network_dataset_11.csv\n",
            "100%|██████████| 148M/148M [00:00<00:00, 166MB/s]\n",
            "Downloading...\n",
            "From (original): https://drive.google.com/uc?id=1BXVV6F-mKG6vKE1u4ZUm4xBdnOkcVMNI\n",
            "From (redirected): https://drive.google.com/uc?id=1BXVV6F-mKG6vKE1u4ZUm4xBdnOkcVMNI&confirm=t&uuid=79e1b569-a165-4aec-a0be-72791725d20c\n",
            "To: /content/TON_IoT/Network_dataset_12.csv\n",
            "100%|██████████| 154M/154M [00:01<00:00, 112MB/s] \n",
            "Downloading...\n",
            "From (original): https://drive.google.com/uc?id=1QulS2yGIXNvgQ7lV5I42C_JhBIuqMtIL\n",
            "From (redirected): https://drive.google.com/uc?id=1QulS2yGIXNvgQ7lV5I42C_JhBIuqMtIL&confirm=t&uuid=3c358e75-6d08-45da-9e6b-43afef192146\n",
            "To: /content/TON_IoT/Network_dataset_13.csv\n",
            "100%|██████████| 151M/151M [00:00<00:00, 181MB/s]\n",
            "Downloading...\n",
            "From (original): https://drive.google.com/uc?id=1pS2UERFScFsiGvuzSqjdXEaWgD1Fb9KM\n",
            "From (redirected): https://drive.google.com/uc?id=1pS2UERFScFsiGvuzSqjdXEaWgD1Fb9KM&confirm=t&uuid=522cb292-80ee-4987-93a6-04c59a14610e\n",
            "To: /content/TON_IoT/Network_dataset_14.csv\n",
            "100%|██████████| 153M/153M [00:00<00:00, 198MB/s]\n",
            "Downloading...\n",
            "From (original): https://drive.google.com/uc?id=1f0C2w7s7-yBUjyNDnSqNVbsj_AXzvtcu\n",
            "From (redirected): https://drive.google.com/uc?id=1f0C2w7s7-yBUjyNDnSqNVbsj_AXzvtcu&confirm=t&uuid=51064a26-f7c2-4714-8808-9adbbb84f2ba\n",
            "To: /content/TON_IoT/Network_dataset_15.csv\n",
            "100%|██████████| 153M/153M [00:00<00:00, 153MB/s]\n",
            "Downloading...\n",
            "From (original): https://drive.google.com/uc?id=1jgACc12G9RqDC80av3xWQEsJUL74jkK8\n",
            "From (redirected): https://drive.google.com/uc?id=1jgACc12G9RqDC80av3xWQEsJUL74jkK8&confirm=t&uuid=1854f586-7938-4ceb-8d9e-3f4a25a3e1cf\n",
            "To: /content/TON_IoT/Network_dataset_16.csv\n",
            "100%|██████████| 153M/153M [00:01<00:00, 150MB/s]\n",
            "Downloading...\n",
            "From (original): https://drive.google.com/uc?id=1RRbaVTIBQpysZK35pTQ6jMwLdv0pljnI\n",
            "From (redirected): https://drive.google.com/uc?id=1RRbaVTIBQpysZK35pTQ6jMwLdv0pljnI&confirm=t&uuid=b238561a-f772-44be-b2fd-9a1346f77c2f\n",
            "To: /content/TON_IoT/Network_dataset_17.csv\n",
            "100%|██████████| 150M/150M [00:01<00:00, 102MB/s]\n",
            "Downloading...\n",
            "From (original): https://drive.google.com/uc?id=1UttY-fFlrE4wCWB-8Z5-_xHtWzetCGfB\n",
            "From (redirected): https://drive.google.com/uc?id=1UttY-fFlrE4wCWB-8Z5-_xHtWzetCGfB&confirm=t&uuid=cebb20b9-eb62-46d0-be10-7fe3b6b88c95\n",
            "To: /content/TON_IoT/Network_dataset_18.csv\n",
            "100%|██████████| 151M/151M [00:01<00:00, 132MB/s]\n",
            "Downloading...\n",
            "From (original): https://drive.google.com/uc?id=1aV6sxsLI7kwlVmOHiNtEn7-Vh5dwez9M\n",
            "From (redirected): https://drive.google.com/uc?id=1aV6sxsLI7kwlVmOHiNtEn7-Vh5dwez9M&confirm=t&uuid=6556df02-71eb-4e77-af6f-d8473190f95c\n",
            "To: /content/TON_IoT/Network_dataset_19.csv\n",
            "100%|██████████| 157M/157M [00:00<00:00, 204MB/s]\n",
            "Downloading...\n",
            "From (original): https://drive.google.com/uc?id=11_q8w1QHVy2TL6Zt5aWhuB2662M2Nt08\n",
            "From (redirected): https://drive.google.com/uc?id=11_q8w1QHVy2TL6Zt5aWhuB2662M2Nt08&confirm=t&uuid=4fd514b3-c3f7-4207-b085-a0eb950a91fe\n",
            "To: /content/TON_IoT/Network_dataset_20.csv\n",
            "100%|██████████| 158M/158M [00:00<00:00, 158MB/s]\n",
            "Downloading...\n",
            "From (original): https://drive.google.com/uc?id=1IRLpw-N-PEyE0Mm-erGI0zGAfhjgUE0N\n",
            "From (redirected): https://drive.google.com/uc?id=1IRLpw-N-PEyE0Mm-erGI0zGAfhjgUE0N&confirm=t&uuid=55b17b9b-0719-4637-8205-dc80c85964ca\n",
            "To: /content/TON_IoT/Network_dataset_21.csv\n",
            "100%|██████████| 159M/159M [00:01<00:00, 103MB/s]\n",
            "Downloading...\n",
            "From (original): https://drive.google.com/uc?id=1_ss0foHv0c3hLrn_qIXyv8OWnJGXo4r2\n",
            "From (redirected): https://drive.google.com/uc?id=1_ss0foHv0c3hLrn_qIXyv8OWnJGXo4r2&confirm=t&uuid=fb1209be-6f51-428a-85da-8827eb4687f8\n",
            "To: /content/TON_IoT/Network_dataset_22.csv\n",
            "100%|██████████| 153M/153M [00:00<00:00, 212MB/s]\n",
            "Downloading...\n",
            "From: https://drive.google.com/uc?id=1NFNPBIOJ4ZpFImFF0KUY_Cwr1LzJKFiH\n",
            "To: /content/TON_IoT/Network_dataset_23.csv\n",
            "100%|██████████| 51.7M/51.7M [00:00<00:00, 148MB/s]\n",
            "Download completed\n"
          ]
        },
        {
          "output_type": "execute_result",
          "data": {
            "text/plain": [
              "['/content/TON_IoT/Network_dataset_1.csv',\n",
              " '/content/TON_IoT/Network_dataset_2.csv',\n",
              " '/content/TON_IoT/Network_dataset_3.csv',\n",
              " '/content/TON_IoT/Network_dataset_4.csv',\n",
              " '/content/TON_IoT/Network_dataset_5.csv',\n",
              " '/content/TON_IoT/Network_dataset_6.csv',\n",
              " '/content/TON_IoT/Network_dataset_7.csv',\n",
              " '/content/TON_IoT/Network_dataset_8.csv',\n",
              " '/content/TON_IoT/Network_dataset_9.csv',\n",
              " '/content/TON_IoT/Network_dataset_10.csv',\n",
              " '/content/TON_IoT/Network_dataset_11.csv',\n",
              " '/content/TON_IoT/Network_dataset_12.csv',\n",
              " '/content/TON_IoT/Network_dataset_13.csv',\n",
              " '/content/TON_IoT/Network_dataset_14.csv',\n",
              " '/content/TON_IoT/Network_dataset_15.csv',\n",
              " '/content/TON_IoT/Network_dataset_16.csv',\n",
              " '/content/TON_IoT/Network_dataset_17.csv',\n",
              " '/content/TON_IoT/Network_dataset_18.csv',\n",
              " '/content/TON_IoT/Network_dataset_19.csv',\n",
              " '/content/TON_IoT/Network_dataset_20.csv',\n",
              " '/content/TON_IoT/Network_dataset_21.csv',\n",
              " '/content/TON_IoT/Network_dataset_22.csv',\n",
              " '/content/TON_IoT/Network_dataset_23.csv']"
            ]
          },
          "metadata": {},
          "execution_count": 2
        }
      ],
      "source": [
        "import gdown\n",
        "import os\n",
        "import pandas as pd\n",
        "\n",
        "\n",
        "#folder_id = '1z6VMfFyl01E0AT1PO9Csx9AJNuxlAQDf'\n",
        "#url = f'https://drive.google.com/drive/folders/{folder_id}'\n",
        "url = 'https://drive.google.com/drive/folders/1z6VMfFyl01E0AT1PO9Csx9AJNuxlAQDf'\n",
        "\n",
        "download_folder = 'TON_IoT'\n",
        "\n",
        "gdown.download_folder(url, quiet=False, use_cookies=False)"
      ]
    },
    {
      "cell_type": "code",
      "source": [],
      "metadata": {
        "id": "1R10C9gOM_9r"
      },
      "execution_count": null,
      "outputs": []
    },
    {
      "cell_type": "code",
      "source": [
        "csv_files = [f for f in os.listdir(download_folder) if f.endswith('.csv')]\n",
        "print(csv_files)\n",
        "combined_df = pd.DataFrame()\n",
        "\n",
        "for csv_file in csv_files:\n",
        "    print('concat', csv_file)\n",
        "    file_path = os.path.join(download_folder, csv_file)\n",
        "    df = pd.read_csv(file_path)\n",
        "    combined_df = pd.concat([combined_df, df], ignore_index=True)\n",
        "    del df\n",
        "\n",
        "print(combined_df)\n",
        "#combined_df.to_csv('combined_dataset.csv', index=False)\n",
        "df = combined_df"
      ],
      "metadata": {
        "colab": {
          "base_uri": "https://localhost:8080/"
        },
        "id": "Gqs48K5BUmQp",
        "outputId": "2fddf7fe-48b4-4019-b860-dc221fbbe3ff"
      },
      "execution_count": 3,
      "outputs": [
        {
          "output_type": "stream",
          "name": "stdout",
          "text": [
            "['Network_dataset_1.csv', 'Network_dataset_16.csv', 'Network_dataset_5.csv', 'Network_dataset_8.csv', 'Network_dataset_6.csv', 'Network_dataset_14.csv', 'Network_dataset_13.csv', 'Network_dataset_3.csv', 'Network_dataset_12.csv', 'Network_dataset_9.csv', 'Network_dataset_4.csv', 'Network_dataset_23.csv', 'Network_dataset_18.csv', 'Network_dataset_7.csv', 'Network_dataset_10.csv', 'Network_dataset_19.csv', 'Network_dataset_22.csv', 'Network_dataset_11.csv', 'Network_dataset_20.csv', 'Network_dataset_2.csv', 'Network_dataset_15.csv', 'Network_dataset_17.csv', 'Network_dataset_21.csv']\n",
            "concat Network_dataset_1.csv\n"
          ]
        },
        {
          "output_type": "stream",
          "name": "stderr",
          "text": [
            "<ipython-input-3-8663b7fc517c>:8: DtypeWarning: Columns (8) have mixed types. Specify dtype option on import or set low_memory=False.\n",
            "  df = pd.read_csv(file_path)\n"
          ]
        },
        {
          "output_type": "stream",
          "name": "stdout",
          "text": [
            "concat Network_dataset_16.csv\n",
            "concat Network_dataset_5.csv\n",
            "concat Network_dataset_8.csv\n",
            "concat Network_dataset_6.csv\n",
            "concat Network_dataset_14.csv\n",
            "concat Network_dataset_13.csv\n",
            "concat Network_dataset_3.csv\n",
            "concat Network_dataset_12.csv\n",
            "concat Network_dataset_9.csv\n",
            "concat Network_dataset_4.csv\n",
            "concat Network_dataset_23.csv\n"
          ]
        },
        {
          "output_type": "stream",
          "name": "stderr",
          "text": [
            "<ipython-input-3-8663b7fc517c>:8: DtypeWarning: Columns (8) have mixed types. Specify dtype option on import or set low_memory=False.\n",
            "  df = pd.read_csv(file_path)\n"
          ]
        },
        {
          "output_type": "stream",
          "name": "stdout",
          "text": [
            "concat Network_dataset_18.csv\n",
            "concat Network_dataset_7.csv\n",
            "concat Network_dataset_10.csv\n",
            "concat Network_dataset_19.csv\n",
            "concat Network_dataset_22.csv\n"
          ]
        },
        {
          "output_type": "stream",
          "name": "stderr",
          "text": [
            "<ipython-input-3-8663b7fc517c>:8: DtypeWarning: Columns (8) have mixed types. Specify dtype option on import or set low_memory=False.\n",
            "  df = pd.read_csv(file_path)\n"
          ]
        },
        {
          "output_type": "stream",
          "name": "stdout",
          "text": [
            "concat Network_dataset_11.csv\n",
            "concat Network_dataset_20.csv\n",
            "concat Network_dataset_2.csv\n",
            "concat Network_dataset_15.csv\n",
            "concat Network_dataset_17.csv\n",
            "concat Network_dataset_21.csv\n",
            "                  ts         src_ip  src_port          dst_ip  dst_port proto  \\\n",
            "0         1554198358    3.122.49.24      1883   192.168.1.152     52976   tcp   \n",
            "1         1554198358   192.168.1.79     47260   192.168.1.255     15600   udp   \n",
            "2         1554198359  192.168.1.152      1880   192.168.1.152     51782   tcp   \n",
            "3         1554198359  192.168.1.152     34296   192.168.1.152     10502   tcp   \n",
            "4         1554198362  192.168.1.152     46608   192.168.1.190        53   udp   \n",
            "...              ...            ...       ...             ...       ...   ...   \n",
            "22339016  1556363201   192.168.1.35     56746   192.168.1.195        80   tcp   \n",
            "22339017  1556363201   192.168.1.35     56776   192.168.1.195        80   tcp   \n",
            "22339018  1556363201   192.168.1.39     50964  18.194.169.124        80   tcp   \n",
            "22339019  1556363201   192.168.1.35     56772   192.168.1.195        80   tcp   \n",
            "22339020  1556363201   192.168.1.35     56778   192.168.1.195        80   tcp   \n",
            "\n",
            "         service      duration src_bytes  dst_bytes  ... http_status_code  \\\n",
            "0              -  80549.530260   1762852   41933215  ...                0   \n",
            "1              -      0.000000         0          0  ...                0   \n",
            "2              -      0.000000         0          0  ...                0   \n",
            "3              -      0.000000         0          0  ...                0   \n",
            "4            dns      0.000549         0        298  ...                0   \n",
            "...          ...           ...       ...        ...  ...              ...   \n",
            "22339016    http      0.049294       363       1282  ...                0   \n",
            "22339017    http      0.077907       389       1282  ...                0   \n",
            "22339018    http      1.069407      2206       1255  ...                0   \n",
            "22339019    http      0.025985       262       1282  ...                0   \n",
            "22339020    http      0.032617       302       1282  ...                0   \n",
            "\n",
            "          http_user_agent  http_orig_mime_types  http_resp_mime_types  \\\n",
            "0                       -                     -                     -   \n",
            "1                       -                     -                     -   \n",
            "2                       -                     -                     -   \n",
            "3                       -                     -                     -   \n",
            "4                       -                     -                     -   \n",
            "...                   ...                   ...                   ...   \n",
            "22339016                -                     -                     -   \n",
            "22339017                -                     -                     -   \n",
            "22339018                -                     -                     -   \n",
            "22339019                -                     -                     -   \n",
            "22339020                -                     -                     -   \n",
            "\n",
            "                weird_name  weird_addl weird_notice  label    type  uid  \n",
            "0         bad_TCP_checksum           -            F      0  normal  NaN  \n",
            "1                        -           -            -      0  normal  NaN  \n",
            "2         bad_TCP_checksum           -            F      0  normal  NaN  \n",
            "3                        -           -            -      0  normal  NaN  \n",
            "4         bad_UDP_checksum           -            F      0  normal  NaN  \n",
            "...                    ...         ...          ...    ...     ...  ...  \n",
            "22339016                 -           -            -      1     xss  NaN  \n",
            "22339017                 -           -            -      1     xss  NaN  \n",
            "22339018                 -           -            -      1     xss  NaN  \n",
            "22339019                 -           -            -      1     xss  NaN  \n",
            "22339020                 -           -            -      1     xss  NaN  \n",
            "\n",
            "[22339021 rows x 47 columns]\n"
          ]
        }
      ]
    },
    {
      "cell_type": "markdown",
      "source": [
        "### Feature selection"
      ],
      "metadata": {
        "id": "IGi8X7OoDhM3"
      }
    },
    {
      "cell_type": "code",
      "source": [
        "#####################################################################\n",
        "#                       Feature Selection                           #\n",
        "#####################################################################\n",
        "\n",
        "# Choosing only 4 main classes to classify\n",
        "df = combined_df[combined_df['type'].isin(['normal', 'password', 'xss', 'scanning'])]\n",
        "print(df.keys())\n",
        "\n",
        "# Create a new DataFrame with only the columns that meet the criteria\n",
        "df = df.drop(['ts', 'src_ip', 'dst_ip', 'http_uri', 'http_referrer', 'http_version', 'uid'], axis=1)\n",
        "\n",
        "# Ensuring data type is uniform for src_bytes\n",
        "df = df.astype({'src_bytes': str})"
      ],
      "metadata": {
        "id": "L2V8PLIMDgdD",
        "colab": {
          "base_uri": "https://localhost:8080/"
        },
        "outputId": "94839857-85ab-4d86-c241-8d2d49d32e17"
      },
      "execution_count": 4,
      "outputs": [
        {
          "output_type": "stream",
          "name": "stdout",
          "text": [
            "Index(['ts', 'src_ip', 'src_port', 'dst_ip', 'dst_port', 'proto', 'service',\n",
            "       'duration', 'src_bytes', 'dst_bytes', 'conn_state', 'missed_bytes',\n",
            "       'src_pkts', 'src_ip_bytes', 'dst_pkts', 'dst_ip_bytes', 'dns_query',\n",
            "       'dns_qclass', 'dns_qtype', 'dns_rcode', 'dns_AA', 'dns_RD', 'dns_RA',\n",
            "       'dns_rejected', 'ssl_version', 'ssl_cipher', 'ssl_resumed',\n",
            "       'ssl_established', 'ssl_subject', 'ssl_issuer', 'http_trans_depth',\n",
            "       'http_method', 'http_uri', 'http_referrer', 'http_version',\n",
            "       'http_request_body_len', 'http_response_body_len', 'http_status_code',\n",
            "       'http_user_agent', 'http_orig_mime_types', 'http_resp_mime_types',\n",
            "       'weird_name', 'weird_addl', 'weird_notice', 'label', 'type', 'uid'],\n",
            "      dtype='object')\n"
          ]
        }
      ]
    },
    {
      "cell_type": "markdown",
      "source": [
        "# Analysis"
      ],
      "metadata": {
        "id": "779VKZWIk87-"
      }
    },
    {
      "cell_type": "markdown",
      "source": [
        "## Feature Extraction\n",
        "We isolate the following fields of interest:\n",
        "* proto\n",
        "* service\n",
        "* label  \n",
        "* detailed-label\n",
        "\n"
      ],
      "metadata": {
        "id": "lZYZOPdKlA9e"
      }
    },
    {
      "cell_type": "code",
      "source": [
        "from sklearn.feature_selection import VarianceThreshold\n",
        "from sklearn.preprocessing import LabelEncoder\n",
        "\n",
        "#####################################################################\n",
        "#                 Aggregating the data into groups                  #\n",
        "#####################################################################\n",
        "\n",
        "# Define the number of packets per group\n",
        "group_size = 10\n",
        "\n",
        "\n",
        "# Extract features and labels\n",
        "features = df.drop(['label', 'type'], axis=1)\n",
        "features = features.astype({'src_bytes': str})\n",
        "labels = df['type']\n",
        "\n",
        "# Ensure all features are numeric\n",
        "for column in features.columns:\n",
        "    if features[column].dtype == 'object':\n",
        "        features[column] = LabelEncoder().fit_transform(features[column])\n",
        "\n",
        "# Initialize lists for the aggregated features and labels\n",
        "aggregated_features = []\n",
        "aggregated_labels = []\n",
        "\n",
        "# Aggregate the data based on label groups\n",
        "unique_labels = labels.unique()\n",
        "for label in unique_labels:\n",
        "    label_group = df[df['type'] == label]\n",
        "    label_features = label_group.drop(['label', 'type'], axis=1)\n",
        "\n",
        "    for i in range(0, len(label_group) - group_size + 1, group_size):\n",
        "        group_features = label_features.iloc[i:i + group_size].values.flatten()  # Flatten the group features\n",
        "        aggregated_features.append(group_features)\n",
        "        aggregated_labels.append(label)\n",
        "\n",
        "\n",
        "# Create a DataFrame from the aggregated features and labels\n",
        "X_aggregated = pd.DataFrame(aggregated_features)\n",
        "print(X_aggregated)\n",
        "Y_aggregated = pd.Series(aggregated_labels)"
      ],
      "metadata": {
        "colab": {
          "base_uri": "https://localhost:8080/"
        },
        "id": "QKhXg3G1lAfn",
        "outputId": "35cf3a0b-3425-40b4-98d5-506531879a16"
      },
      "execution_count": 5,
      "outputs": [
        {
          "output_type": "stream",
          "name": "stdout",
          "text": [
            "           0      1    2     3             4        5         6    7    8    \\\n",
            "0         1883  52976  tcp     -  80549.530260  1762852  41933215  OTH    0   \n",
            "1        37498  15600  udp     -      0.000000        0         0   S0    0   \n",
            "2        58180  15600  udp     -      0.000000        0         0   S0    0   \n",
            "3        34296  10502  tcp     -      0.000000        0         0  OTH    0   \n",
            "4        34296  10502  tcp     -      0.000000        0         0  OTH    0   \n",
            "...        ...    ...  ...   ...           ...      ...       ...  ...  ...   \n",
            "1176399  56634     80  tcp  http      0.025306      262      1282   SF    0   \n",
            "1176400  56808     80  tcp  http      0.027102      326      1282   SF    0   \n",
            "1176401  56720     80  tcp  http      0.017375      328      1282   SF    0   \n",
            "1176402  51970     80  tcp  http      1.033493      362       724   SF    0   \n",
            "1176403  46075     53  udp   dns      0.004692       80       112   SF    0   \n",
            "\n",
            "            9    ...  370  371  372 373  374  375  376 377 378 379  \n",
            "0        252181  ...    -    0    0   0    -    -    -   -   -   -  \n",
            "1             1  ...    -    0    0   0    -    -    -   -   -   -  \n",
            "2             1  ...    -    0    0   0    -    -    -   -   -   -  \n",
            "3             0  ...    -    0    0   0    -    -    -   -   -   -  \n",
            "4             0  ...    -    0    0   0    -    -    -   -   -   -  \n",
            "...         ...  ...  ...  ...  ...  ..  ...  ...  ...  ..  ..  ..  \n",
            "1176399       6  ...    -    0    0   0    -    -    -   -   -   -  \n",
            "1176400       6  ...    -    0    0   0    -    -    -   -   -   -  \n",
            "1176401       6  ...    -    0    0   0    -    -    -   -   -   -  \n",
            "1176402       6  ...    -    0    0   0    -    -    -   -   -   -  \n",
            "1176403       2  ...    -    0    0   0    -    -    -   -   -   -  \n",
            "\n",
            "[1176404 rows x 380 columns]\n"
          ]
        }
      ]
    },
    {
      "cell_type": "markdown",
      "source": [
        "##Analyze each type of traffic:"
      ],
      "metadata": {
        "id": "i3nMl1_pPrsd"
      }
    },
    {
      "cell_type": "markdown",
      "source": [
        "##Group into classes:"
      ],
      "metadata": {
        "id": "jhZKpugPSUQu"
      }
    },
    {
      "cell_type": "markdown",
      "source": [
        "#Using the LinearSVC classifier to classify the network traffic"
      ],
      "metadata": {
        "id": "bzQKE0DvRQoS"
      }
    },
    {
      "cell_type": "code",
      "source": [
        "from sklearn.model_selection import train_test_split\n",
        "from sklearn.linear_model import SGDClassifier\n",
        "import random\n",
        "import numpy\n",
        "\n",
        "#####################################################################\n",
        "#                       Splitting the dataset                       #\n",
        "#####################################################################\n",
        "\n",
        "X_train, X_test, Y_train, Y_test = train_test_split(features, labels, test_size=0.4, random_state=42)\n",
        "#X_train, X_test, Y_train, Y_test = train_test_split(X_aggregated, Y_aggregated, test_size=0.4, random_state=42)"
      ],
      "metadata": {
        "id": "fB2hSRpbZZ8e"
      },
      "execution_count": 6,
      "outputs": []
    },
    {
      "cell_type": "code",
      "source": [
        "from sklearn.svm import LinearSVC\n",
        "\n",
        "from sklearn.metrics import accuracy_score, classification_report\n",
        "from sklearn.preprocessing import OneHotEncoder\n",
        "\n",
        "#####################################################################\n",
        "#                       Training the classifier                     #\n",
        "#####################################################################\n",
        "\n",
        "enc = OneHotEncoder(handle_unknown='ignore')\n",
        "X_train = enc.fit_transform(X=X_train)\n",
        "X_test = enc.transform(X=X_test)\n",
        "\n",
        "clf = LinearSVC(random_state=42, C=1e-5)\n",
        "clf.fit(X_train, Y_train)\n",
        "Y_pred = clf.predict(X_test)\n",
        "\n",
        "print(f\"Classifier Accuracy: {accuracy_score(Y_test, Y_pred)}\\n\")\n",
        "print(f\"Classification Report:\\n {classification_report(Y_test, Y_pred)}\\n\")"
      ],
      "metadata": {
        "id": "yzlmFmhWRf5w",
        "colab": {
          "base_uri": "https://localhost:8080/"
        },
        "outputId": "d1bf11c9-ff7f-4ce7-a3f9-9d8fabd69ff4"
      },
      "execution_count": 7,
      "outputs": [
        {
          "output_type": "stream",
          "name": "stdout",
          "text": [
            "Classifier Accuracy: 0.9868004697359881\n",
            "\n",
            "Classification Report:\n",
            "               precision    recall  f1-score   support\n",
            "\n",
            "      normal       0.96      0.92      0.94    318912\n",
            "    password       0.99      0.99      0.99    686958\n",
            "    scanning       0.99      0.99      0.99   2855919\n",
            "         xss       0.99      0.99      0.99    843833\n",
            "\n",
            "    accuracy                           0.99   4705622\n",
            "   macro avg       0.98      0.97      0.98   4705622\n",
            "weighted avg       0.99      0.99      0.99   4705622\n",
            "\n",
            "\n"
          ]
        }
      ]
    },
    {
      "cell_type": "code",
      "source": [
        "from sklearn.metrics import confusion_matrix, ConfusionMatrixDisplay\n",
        "import matplotlib.pyplot as plt\n",
        "\n",
        "cm = confusion_matrix(Y_test, Y_pred, labels=clf.classes_)\n",
        "disp = ConfusionMatrixDisplay(confusion_matrix=cm,\n",
        "                              display_labels=clf.classes_)\n",
        "disp.plot()\n",
        "plt.show()"
      ],
      "metadata": {
        "colab": {
          "base_uri": "https://localhost:8080/",
          "height": 465
        },
        "id": "WsRfsPL-OQbS",
        "outputId": "09e80048-b7c8-4ff7-a9c7-b1076429a73b"
      },
      "execution_count": 9,
      "outputs": [
        {
          "output_type": "display_data",
          "data": {
            "text/plain": [
              "<Figure size 640x480 with 2 Axes>"
            ],
            "image/png": "[encoded data removed]"
          },
          "metadata": {}
        }
      ]
    }
  ]
}