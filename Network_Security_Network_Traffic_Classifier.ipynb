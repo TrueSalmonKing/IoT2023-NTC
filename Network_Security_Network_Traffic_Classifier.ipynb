{
  "nbformat": 4,
  "nbformat_minor": 0,
  "metadata": {
    "colab": {
      "provenance": [],
      "collapsed_sections": [
        "oAyEATp98jC4",
        "iIWOSLYOfNb_",
        "UOlOEb7ahfhP"
      ]
    },
    "kernelspec": {
      "name": "python3",
      "display_name": "Python 3"
    },
    "language_info": {
      "name": "python"
    }
  },
  "cells": [
    {
      "cell_type": "markdown",
      "source": [
        "# Preperatory steps"
      ],
      "metadata": {
        "id": "jCSag_IafH7b"
      }
    },
    {
      "cell_type": "markdown",
      "source": [
        "## (Optional) Creating the dataset dataframe"
      ],
      "metadata": {
        "id": "oAyEATp98jC4"
      }
    },
    {
      "cell_type": "markdown",
      "source": [
        "### Downloading the dataset(s)\n",
        "\n",
        "The dataset we will use be compromised of different samples collected from 2018 to 2019 on IoT devices using two datasets:\n",
        "* CTU-IoT-Malware-Capture-17-1 (Kenjiro)\n",
        "* CTU-IoT-Malware-Capture-33-1 (Kenjiro)\n",
        "\n",
        "Containing the following labels:\n",
        "* Attack\n",
        "* Benign\n",
        "* C&C-HeartBeat\n",
        "* DDoS\n",
        "* Okiru\n",
        "* Okiru-Attack\n",
        "* PartOfAHorizontalPortScan\n",
        "* PartOfAHorizontalPortScan-Attack"
      ],
      "metadata": {
        "id": "PDmdkqmJfCx3"
      }
    },
    {
      "cell_type": "code",
      "execution_count": null,
      "metadata": {
        "id": "UZR-qarNapf-"
      },
      "outputs": [],
      "source": [
        "import os\n",
        "import requests\n",
        "\n",
        "#dataset_link = 'https://mcfp.felk.cvut.cz/publicDatasets/IoT-23-Dataset/IndividualScenarios/CTU-IoT-Malware-Capture-3-1/bro/conn.log.labeled'\n",
        "#dataset_link = 'https://mcfp.felk.cvut.cz/publicDatasets/IoT-23-Dataset/IndividualScenarios/CTU-IoT-Malware-Capture-7-1/bro/conn.log.labeled'\n",
        "dataset_link_1 = 'https://mcfp.felk.cvut.cz/publicDatasets/IoT-23-Dataset/IndividualScenarios/CTU-IoT-Malware-Capture-17-1/bro/conn.log.labeled'\n",
        "dataset_link_2 = 'https://mcfp.felk.cvut.cz/publicDatasets/IoT-23-Dataset/IndividualScenarios/CTU-IoT-Malware-Capture-33-1/bro/conn.log.labeled'\n",
        "\n",
        "def download_file(url, save_path):\n",
        "    response = requests.get(url, stream=True)\n",
        "    with open(save_path, 'wb') as file:\n",
        "        for chunk in response.iter_content(chunk_size=1024):\n",
        "            if chunk:\n",
        "                file.write(chunk)\n",
        "\n",
        "os.mkdir('data/')\n",
        "\n",
        "# file_name = 'iot_23_datasets_small.tar.gz'\n",
        "file_names = ['conn.log.labeled', 'conn.log.labeled_1']\n",
        "save_paths = ['data/'+file_names[0], 'data/'+file_names[1]]\n",
        "\n",
        "for save_path, dataset_link in zip(save_paths, [dataset_link_1, dataset_link_2]):\n",
        "  download_file(dataset_link, save_path)"
      ]
    },
    {
      "cell_type": "markdown",
      "source": [
        "### Checking contents"
      ],
      "metadata": {
        "id": "iIWOSLYOfNb_"
      }
    },
    {
      "cell_type": "code",
      "source": [
        "dataset_0 = open(save_paths[0])\n",
        "dataset_1 = open(save_paths[1])\n",
        "\n",
        "i = 0\n",
        "for l0, l1 in zip(dataset_0, dataset_1):\n",
        "  print(i, l0)\n",
        "  print(i, l1)\n",
        "  if i == 10:\n",
        "    break\n",
        "  i += 1"
      ],
      "metadata": {
        "id": "U0y83xwtfM4m",
        "colab": {
          "base_uri": "https://localhost:8080/"
        },
        "outputId": "5e4e02c0-694f-44ec-ec0b-b44bf5d70410"
      },
      "execution_count": null,
      "outputs": [
        {
          "output_type": "stream",
          "name": "stdout",
          "text": [
            "0 #separator \\x09\n",
            "\n",
            "0 #separator \\x09\n",
            "\n",
            "1 #set_separator\t,\n",
            "\n",
            "1 #set_separator\t,\n",
            "\n",
            "2 #empty_field\t(empty)\n",
            "\n",
            "2 #empty_field\t(empty)\n",
            "\n",
            "3 #unset_field\t-\n",
            "\n",
            "3 #unset_field\t-\n",
            "\n",
            "4 #path\tconn\n",
            "\n",
            "4 #path\tconn\n",
            "\n",
            "5 #open\t2019-11-15-18-27-06\n",
            "\n",
            "5 #open\t2019-01-04-05-09-08\n",
            "\n",
            "6 #fields\tts\tuid\tid.orig_h\tid.orig_p\tid.resp_h\tid.resp_p\tproto\tservice\tduration\torig_bytes\tresp_bytes\tconn_state\tlocal_orig\tlocal_resp\tmissed_bytes\thistory\torig_pkts\torig_ip_bytes\tresp_pkts\tresp_ip_bytes\ttunnel_parents   label   detailed-label\n",
            "\n",
            "6 #fields\tts\tuid\tid.orig_h\tid.orig_p\tid.resp_h\tid.resp_p\tproto\tservice\tduration\torig_bytes\tresp_bytes\tconn_state\tlocal_orig\tlocal_resp\tmissed_bytes\thistory\torig_pkts\torig_ip_bytes\tresp_pkts\tresp_ip_bytes\ttunnel_parents   label   detailed-label\n",
            "\n",
            "7 #types\ttime\tstring\taddr\tport\taddr\tport\tenum\tstring\tinterval\tcount\tcount\tstring\tbool\tbool\tcount\tstring\tcount\tcount\tcount\tcount\tset[string]   string   string\n",
            "\n",
            "7 #types\ttime\tstring\taddr\tport\taddr\tport\tenum\tstring\tinterval\tcount\tcount\tstring\tbool\tbool\tcount\tstring\tcount\tcount\tcount\tcount\tset[string]   string   string\n",
            "\n",
            "8 1536227023.384416\tC4KBg33aPIlZW8Ewkf\t192.168.100.111\t17576\t136.152.75.213\t8081\ttcp\t-\t0.000005\t0\t0\tS0\t-\t-\t0\tS\t2\t80\t0\t0\t-   Malicious   PartOfAHorizontalPortScan\n",
            "\n",
            "8 1545336612.053540\tCddD2d1qU4UCgtFGV1\t192.168.1.197\t123\t217.30.75.147\t123\tudp\t-\t0.002241\t48\t48\tSF\t-\t-\t0\tDd\t1\t76\t1\t76\t-   Benign   -\n",
            "\n",
            "9 1536227023.384424\tCG8Ozg4pwBU0JcnUz7\t192.168.100.111\t17576\t60.255.252.85\t8081\ttcp\t-\t0.000002\t0\t0\tS0\t-\t-\t0\tS\t2\t80\t0\t0\t-   Malicious   PartOfAHorizontalPortScan\n",
            "\n",
            "9 1545336612.053552\tCWsvajFlOE7fg2py4\t192.168.1.197\t123\t94.124.107.190\t123\tudp\t-\t0.006726\t48\t48\tSF\t-\t-\t0\tDd\t1\t76\t1\t76\t-   Benign   -\n",
            "\n",
            "10 1536227023.384666\tC6surB4vST7j25TC53\t192.168.100.111\t17832\t156.144.75.213\t37215\ttcp\t-\t0.000005\t0\t0\tS0\t-\t-\t0\tS\t2\t80\t0\t0\t-   Malicious   Okiru\n",
            "\n",
            "10 1545336620.053729\tCthriq2tzQhGjBK304\t192.168.1.197\t123\t89.221.214.130\t123\tudp\t-\t0.003734\t48\t48\tSF\t-\t-\t0\tDd\t1\t76\t1\t76\t-   Benign   -\n",
            "\n"
          ]
        }
      ]
    },
    {
      "cell_type": "markdown",
      "source": [
        "### Turning the dataset(s) into a dataframe"
      ],
      "metadata": {
        "id": "UOlOEb7ahfhP"
      }
    },
    {
      "cell_type": "code",
      "source": [
        "import pandas as pd\n",
        "import re\n",
        "\n",
        "def make_df(file_path):\n",
        "  data = []\n",
        "\n",
        "  i = 0\n",
        "  with open(file_path, 'r') as file:\n",
        "    while True:\n",
        "      if i%1000000 == 0:\n",
        "        print(i)\n",
        "      line = file.readline()\n",
        "\n",
        "      if not line or i == 1000000:\n",
        "        break\n",
        "\n",
        "      fields = re.split(r'\\t| {2,}', line.strip())\n",
        "      data.append(fields)\n",
        "      i += 1\n",
        "\n",
        "  columns = data[6][1:]\n",
        "\n",
        "  df = pd.DataFrame(data[8:], columns=columns)\n",
        "\n",
        "  return df\n",
        "\n",
        "df_0 = make_df(save_paths[0])\n",
        "df_1 = make_df(save_paths[1])\n",
        "\n",
        "df = pd.concat([df_0, df_1], ignore_index=True)"
      ],
      "metadata": {
        "colab": {
          "base_uri": "https://localhost:8080/"
        },
        "id": "NeaxnMyahe5i",
        "outputId": "680989cc-5695-411e-bdc5-b3c4bf7b749f"
      },
      "execution_count": null,
      "outputs": [
        {
          "output_type": "stream",
          "name": "stdout",
          "text": [
            "0\n",
            "1000000\n",
            "0\n",
            "1000000\n"
          ]
        }
      ]
    },
    {
      "cell_type": "code",
      "source": [
        "print(df.columns)\n",
        "print(df.iloc[0, :])\n",
        "df.to_pickle('dataframe.pkl')"
      ],
      "metadata": {
        "colab": {
          "base_uri": "https://localhost:8080/"
        },
        "id": "QMsIpQFsiVCa",
        "outputId": "23b2dbf4-9922-4a68-e224-09f09807fc55"
      },
      "execution_count": null,
      "outputs": [
        {
          "output_type": "stream",
          "name": "stdout",
          "text": [
            "Index(['ts', 'uid', 'id.orig_h', 'id.orig_p', 'id.resp_h', 'id.resp_p',\n",
            "       'proto', 'service', 'duration', 'orig_bytes', 'resp_bytes',\n",
            "       'conn_state', 'local_orig', 'local_resp', 'missed_bytes', 'history',\n",
            "       'orig_pkts', 'orig_ip_bytes', 'resp_pkts', 'resp_ip_bytes',\n",
            "       'tunnel_parents', 'label', 'detailed-label'],\n",
            "      dtype='object')\n",
            "ts                        1536227023.384416\n",
            "uid                      C4KBg33aPIlZW8Ewkf\n",
            "id.orig_h                   192.168.100.111\n",
            "id.orig_p                             17576\n",
            "id.resp_h                    136.152.75.213\n",
            "id.resp_p                              8081\n",
            "proto                                   tcp\n",
            "service                                   -\n",
            "duration                           0.000005\n",
            "orig_bytes                                0\n",
            "resp_bytes                                0\n",
            "conn_state                               S0\n",
            "local_orig                                -\n",
            "local_resp                                -\n",
            "missed_bytes                              0\n",
            "history                                   S\n",
            "orig_pkts                                 2\n",
            "orig_ip_bytes                            80\n",
            "resp_pkts                                 0\n",
            "resp_ip_bytes                             0\n",
            "tunnel_parents                            -\n",
            "label                             Malicious\n",
            "detailed-label    PartOfAHorizontalPortScan\n",
            "Name: 0, dtype: object\n"
          ]
        }
      ]
    },
    {
      "cell_type": "markdown",
      "source": [
        "##  Loading the pre-created dataset dataframe"
      ],
      "metadata": {
        "id": "xmuoXkWL75KO"
      }
    },
    {
      "cell_type": "markdown",
      "source": [
        "### Loading the dataset dataframe\n",
        "\n",
        "The dataset in the dataframe pickle file will use be compromised of different samples collected from 2018 to 2019 on IoT devices using two datasets:\n",
        "* CTU-IoT-Malware-Capture-17-1 (Kenjiro)\n",
        "* CTU-IoT-Malware-Capture-33-1 (Kenjiro)\n",
        "\n",
        "Containing the following labels:\n",
        "* Attack\n",
        "* Benign\n",
        "* C&C-HeartBeat\n",
        "* DDoS\n",
        "* Okiru\n",
        "* Okiru-Attack\n",
        "* PartOfAHorizontalPortScan\n",
        "* PartOfAHorizontalPortScan-Attack"
      ],
      "metadata": {
        "id": "keH3qsTj9QMU"
      }
    },
    {
      "cell_type": "code",
      "source": [
        "import pandas as pd\n",
        "import os\n",
        "import gdown\n",
        "\n",
        "id = '1qKJ4KebFSOxfbrNBP5ebQuWdvII9qimf'\n",
        "if not os.path.exists('data/'):\n",
        "  os.mkdir('data/')\n",
        "output_file = 'data/dataframe.pkl'\n",
        "\n",
        "# Download the file\n",
        "gdown.download(id=id, output=output_file, quiet=False)\n",
        "\n",
        "df = pd.read_pickle(output_file)"
      ],
      "metadata": {
        "id": "Vq_CJfEl8nla",
        "colab": {
          "base_uri": "https://localhost:8080/"
        },
        "outputId": "1a3e0c06-9793-40c6-e27a-f6388449ea8d"
      },
      "execution_count": 76,
      "outputs": [
        {
          "output_type": "stream",
          "name": "stderr",
          "text": [
            "Downloading...\n",
            "From (original): https://drive.google.com/uc?id=1qKJ4KebFSOxfbrNBP5ebQuWdvII9qimf\n",
            "From (redirected): https://drive.google.com/uc?id=1qKJ4KebFSOxfbrNBP5ebQuWdvII9qimf&confirm=t&uuid=dbebfa88-a51c-44b6-81ac-6da7be07ab7e\n",
            "To: /content/data/dataframe.pkl\n",
            "100%|██████████| 401M/401M [00:04<00:00, 83.4MB/s]\n"
          ]
        }
      ]
    },
    {
      "cell_type": "markdown",
      "source": [
        "# Analysis"
      ],
      "metadata": {
        "id": "779VKZWIk87-"
      }
    },
    {
      "cell_type": "markdown",
      "source": [
        "## We isolate the following fields of interest:\n",
        "* proto\n",
        "* service\n",
        "* label  \n",
        "* detailed-label\n",
        "\n"
      ],
      "metadata": {
        "id": "lZYZOPdKlA9e"
      }
    },
    {
      "cell_type": "code",
      "source": [
        "clean_df = df[[\"proto\", \"service\", \"label\", \"detailed-label\"]]\n",
        "feature = 'detailed-label'\n",
        "analysis_df = clean_df[feature]\n",
        "val_count = analysis_df.value_counts().sort_index()\n",
        "print(val_count)"
      ],
      "metadata": {
        "colab": {
          "base_uri": "https://localhost:8080/"
        },
        "id": "QKhXg3G1lAfn",
        "outputId": "fcf6134f-13ab-4fea-81b3-fecd25722100"
      },
      "execution_count": 78,
      "outputs": [
        {
          "output_type": "stream",
          "name": "stdout",
          "text": [
            "detailed-label\n",
            "-                              26026\n",
            "C&C-HeartBeat                    198\n",
            "DDoS                          249738\n",
            "Okiru                         500053\n",
            "PartOfAHorizontalPortScan    1223969\n",
            "Name: count, dtype: int64\n"
          ]
        }
      ]
    }
  ]
}