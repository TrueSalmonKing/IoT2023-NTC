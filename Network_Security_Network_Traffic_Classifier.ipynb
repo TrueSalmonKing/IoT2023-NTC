{
  "nbformat": 4,
  "nbformat_minor": 0,
  "metadata": {
    "colab": {
      "provenance": [],
      "collapsed_sections": [
        "oAyEATp98jC4",
        "PDmdkqmJfCx3",
        "xmuoXkWL75KO",
        "lZYZOPdKlA9e"
      ]
    },
    "kernelspec": {
      "name": "python3",
      "display_name": "Python 3"
    },
    "language_info": {
      "name": "python"
    }
  },
  "cells": [
    {
      "cell_type": "markdown",
      "source": [
        "# Preperatory steps"
      ],
      "metadata": {
        "id": "jCSag_IafH7b"
      }
    },
    {
      "cell_type": "markdown",
      "source": [
        "## (Optional) Creating the dataset dataframe"
      ],
      "metadata": {
        "id": "oAyEATp98jC4"
      }
    },
    {
      "cell_type": "markdown",
      "source": [
        "### Downloading the dataset(s)\n",
        "\n",
        "The dataset we will use be compromised of different samples collected from 2018 to 2019 on IoT devices using two datasets:\n",
        "* CTU-IoT-Malware-Capture-17-1 (Kenjiro)\n",
        "* CTU-IoT-Malware-Capture-33-1 (Kenjiro)\n",
        "\n",
        "Containing the following labels:\n",
        "* Attack\n",
        "* Benign\n",
        "* C&C-HeartBeat\n",
        "* DDoS\n",
        "* Okiru\n",
        "* Okiru-Attack\n",
        "* PartOfAHorizontalPortScan\n",
        "* PartOfAHorizontalPortScan-Attack"
      ],
      "metadata": {
        "id": "PDmdkqmJfCx3"
      }
    },
    {
      "cell_type": "code",
      "execution_count": null,
      "metadata": {
        "id": "UZR-qarNapf-"
      },
      "outputs": [],
      "source": [
        "import os\n",
        "import requests\n",
        "\n",
        "#dataset_link = 'https://mcfp.felk.cvut.cz/publicDatasets/IoT-23-Dataset/IndividualScenarios/CTU-IoT-Malware-Capture-3-1/bro/conn.log.labeled'\n",
        "#dataset_link = 'https://mcfp.felk.cvut.cz/publicDatasets/IoT-23-Dataset/IndividualScenarios/CTU-IoT-Malware-Capture-7-1/bro/conn.log.labeled'\n",
        "dataset_link_1 = 'https://mcfp.felk.cvut.cz/publicDatasets/IoT-23-Dataset/IndividualScenarios/CTU-IoT-Malware-Capture-17-1/bro/conn.log.labeled'\n",
        "dataset_link_2 = 'https://mcfp.felk.cvut.cz/publicDatasets/IoT-23-Dataset/IndividualScenarios/CTU-IoT-Malware-Capture-33-1/bro/conn.log.labeled'\n",
        "\n",
        "def download_file(url, save_path):\n",
        "    response = requests.get(url, stream=True)\n",
        "    with open(save_path, 'wb') as file:\n",
        "        for chunk in response.iter_content(chunk_size=1024):\n",
        "            if chunk:\n",
        "                file.write(chunk)\n",
        "\n",
        "os.mkdir('data/')\n",
        "\n",
        "# file_name = 'iot_23_datasets_small.tar.gz'\n",
        "file_names = ['conn.log.labeled', 'conn.log.labeled_1']\n",
        "save_paths = ['data/'+file_names[0], 'data/'+file_names[1]]\n",
        "\n",
        "for save_path, dataset_link in zip(save_paths, [dataset_link_1, dataset_link_2]):\n",
        "  download_file(dataset_link, save_path)"
      ]
    },
    {
      "cell_type": "markdown",
      "source": [
        "### Checking contents"
      ],
      "metadata": {
        "id": "iIWOSLYOfNb_"
      }
    },
    {
      "cell_type": "code",
      "source": [
        "dataset_0 = open(save_paths[0])\n",
        "dataset_1 = open(save_paths[1])\n",
        "\n",
        "i = 0\n",
        "for l0, l1 in zip(dataset_0, dataset_1):\n",
        "  print(i, l0)\n",
        "  print(i, l1)\n",
        "  if i == 10:\n",
        "    break\n",
        "  i += 1"
      ],
      "metadata": {
        "id": "U0y83xwtfM4m",
        "colab": {
          "base_uri": "https://localhost:8080/"
        },
        "outputId": "5e4e02c0-694f-44ec-ec0b-b44bf5d70410"
      },
      "execution_count": null,
      "outputs": [
        {
          "output_type": "stream",
          "name": "stdout",
          "text": [
            "0 #separator \\x09\n",
            "\n",
            "0 #separator \\x09\n",
            "\n",
            "1 #set_separator\t,\n",
            "\n",
            "1 #set_separator\t,\n",
            "\n",
            "2 #empty_field\t(empty)\n",
            "\n",
            "2 #empty_field\t(empty)\n",
            "\n",
            "3 #unset_field\t-\n",
            "\n",
            "3 #unset_field\t-\n",
            "\n",
            "4 #path\tconn\n",
            "\n",
            "4 #path\tconn\n",
            "\n",
            "5 #open\t2019-11-15-18-27-06\n",
            "\n",
            "5 #open\t2019-01-04-05-09-08\n",
            "\n",
            "6 #fields\tts\tuid\tid.orig_h\tid.orig_p\tid.resp_h\tid.resp_p\tproto\tservice\tduration\torig_bytes\tresp_bytes\tconn_state\tlocal_orig\tlocal_resp\tmissed_bytes\thistory\torig_pkts\torig_ip_bytes\tresp_pkts\tresp_ip_bytes\ttunnel_parents   label   detailed-label\n",
            "\n",
            "6 #fields\tts\tuid\tid.orig_h\tid.orig_p\tid.resp_h\tid.resp_p\tproto\tservice\tduration\torig_bytes\tresp_bytes\tconn_state\tlocal_orig\tlocal_resp\tmissed_bytes\thistory\torig_pkts\torig_ip_bytes\tresp_pkts\tresp_ip_bytes\ttunnel_parents   label   detailed-label\n",
            "\n",
            "7 #types\ttime\tstring\taddr\tport\taddr\tport\tenum\tstring\tinterval\tcount\tcount\tstring\tbool\tbool\tcount\tstring\tcount\tcount\tcount\tcount\tset[string]   string   string\n",
            "\n",
            "7 #types\ttime\tstring\taddr\tport\taddr\tport\tenum\tstring\tinterval\tcount\tcount\tstring\tbool\tbool\tcount\tstring\tcount\tcount\tcount\tcount\tset[string]   string   string\n",
            "\n",
            "8 1536227023.384416\tC4KBg33aPIlZW8Ewkf\t192.168.100.111\t17576\t136.152.75.213\t8081\ttcp\t-\t0.000005\t0\t0\tS0\t-\t-\t0\tS\t2\t80\t0\t0\t-   Malicious   PartOfAHorizontalPortScan\n",
            "\n",
            "8 1545336612.053540\tCddD2d1qU4UCgtFGV1\t192.168.1.197\t123\t217.30.75.147\t123\tudp\t-\t0.002241\t48\t48\tSF\t-\t-\t0\tDd\t1\t76\t1\t76\t-   Benign   -\n",
            "\n",
            "9 1536227023.384424\tCG8Ozg4pwBU0JcnUz7\t192.168.100.111\t17576\t60.255.252.85\t8081\ttcp\t-\t0.000002\t0\t0\tS0\t-\t-\t0\tS\t2\t80\t0\t0\t-   Malicious   PartOfAHorizontalPortScan\n",
            "\n",
            "9 1545336612.053552\tCWsvajFlOE7fg2py4\t192.168.1.197\t123\t94.124.107.190\t123\tudp\t-\t0.006726\t48\t48\tSF\t-\t-\t0\tDd\t1\t76\t1\t76\t-   Benign   -\n",
            "\n",
            "10 1536227023.384666\tC6surB4vST7j25TC53\t192.168.100.111\t17832\t156.144.75.213\t37215\ttcp\t-\t0.000005\t0\t0\tS0\t-\t-\t0\tS\t2\t80\t0\t0\t-   Malicious   Okiru\n",
            "\n",
            "10 1545336620.053729\tCthriq2tzQhGjBK304\t192.168.1.197\t123\t89.221.214.130\t123\tudp\t-\t0.003734\t48\t48\tSF\t-\t-\t0\tDd\t1\t76\t1\t76\t-   Benign   -\n",
            "\n"
          ]
        }
      ]
    },
    {
      "cell_type": "markdown",
      "source": [
        "### Turning the dataset(s) into a dataframe"
      ],
      "metadata": {
        "id": "UOlOEb7ahfhP"
      }
    },
    {
      "cell_type": "code",
      "source": [
        "import pandas as pd\n",
        "import re\n",
        "\n",
        "def make_df(file_path):\n",
        "  data = []\n",
        "\n",
        "  i = 0\n",
        "  with open(file_path, 'r') as file:\n",
        "    while True:\n",
        "      if i%1000000 == 0:\n",
        "        print(i)\n",
        "      line = file.readline()\n",
        "\n",
        "      if not line or i == 1000000:\n",
        "        break\n",
        "\n",
        "      fields = re.split(r'\\t| {2,}', line.strip())\n",
        "      data.append(fields)\n",
        "      i += 1\n",
        "\n",
        "  columns = data[6][1:]\n",
        "\n",
        "  df = pd.DataFrame(data[8:], columns=columns)\n",
        "\n",
        "  return df\n",
        "\n",
        "df_0 = make_df(save_paths[0])\n",
        "df_1 = make_df(save_paths[1])\n",
        "\n",
        "df = pd.concat([df_0, df_1], ignore_index=True)"
      ],
      "metadata": {
        "colab": {
          "base_uri": "https://localhost:8080/"
        },
        "id": "NeaxnMyahe5i",
        "outputId": "680989cc-5695-411e-bdc5-b3c4bf7b749f"
      },
      "execution_count": null,
      "outputs": [
        {
          "output_type": "stream",
          "name": "stdout",
          "text": [
            "0\n",
            "1000000\n",
            "0\n",
            "1000000\n"
          ]
        }
      ]
    },
    {
      "cell_type": "code",
      "source": [
        "print(df.columns)\n",
        "print(df.iloc[0, :])\n",
        "df.to_pickle('dataframe.pkl')"
      ],
      "metadata": {
        "colab": {
          "base_uri": "https://localhost:8080/"
        },
        "id": "QMsIpQFsiVCa",
        "outputId": "23b2dbf4-9922-4a68-e224-09f09807fc55"
      },
      "execution_count": null,
      "outputs": [
        {
          "output_type": "stream",
          "name": "stdout",
          "text": [
            "Index(['ts', 'uid', 'id.orig_h', 'id.orig_p', 'id.resp_h', 'id.resp_p',\n",
            "       'proto', 'service', 'duration', 'orig_bytes', 'resp_bytes',\n",
            "       'conn_state', 'local_orig', 'local_resp', 'missed_bytes', 'history',\n",
            "       'orig_pkts', 'orig_ip_bytes', 'resp_pkts', 'resp_ip_bytes',\n",
            "       'tunnel_parents', 'label', 'detailed-label'],\n",
            "      dtype='object')\n",
            "ts                        1536227023.384416\n",
            "uid                      C4KBg33aPIlZW8Ewkf\n",
            "id.orig_h                   192.168.100.111\n",
            "id.orig_p                             17576\n",
            "id.resp_h                    136.152.75.213\n",
            "id.resp_p                              8081\n",
            "proto                                   tcp\n",
            "service                                   -\n",
            "duration                           0.000005\n",
            "orig_bytes                                0\n",
            "resp_bytes                                0\n",
            "conn_state                               S0\n",
            "local_orig                                -\n",
            "local_resp                                -\n",
            "missed_bytes                              0\n",
            "history                                   S\n",
            "orig_pkts                                 2\n",
            "orig_ip_bytes                            80\n",
            "resp_pkts                                 0\n",
            "resp_ip_bytes                             0\n",
            "tunnel_parents                            -\n",
            "label                             Malicious\n",
            "detailed-label    PartOfAHorizontalPortScan\n",
            "Name: 0, dtype: object\n"
          ]
        }
      ]
    },
    {
      "cell_type": "markdown",
      "source": [
        "##  Loading the pre-created dataset dataframe"
      ],
      "metadata": {
        "id": "xmuoXkWL75KO"
      }
    },
    {
      "cell_type": "code",
      "source": [
        "!pip install skfeature-chappers"
      ],
      "metadata": {
        "colab": {
          "base_uri": "https://localhost:8080/"
        },
        "id": "9QvqPIb2W51m",
        "outputId": "e7db237a-6878-4502-a224-ec2327063108"
      },
      "execution_count": 112,
      "outputs": [
        {
          "output_type": "stream",
          "name": "stdout",
          "text": [
            "Requirement already satisfied: skfeature-chappers in /usr/local/lib/python3.10/dist-packages (1.1.0)\n",
            "Requirement already satisfied: scikit-learn in /usr/local/lib/python3.10/dist-packages (from skfeature-chappers) (1.2.2)\n",
            "Requirement already satisfied: pandas in /usr/local/lib/python3.10/dist-packages (from skfeature-chappers) (2.0.3)\n",
            "Requirement already satisfied: numpy in /usr/local/lib/python3.10/dist-packages (from skfeature-chappers) (1.25.2)\n",
            "Requirement already satisfied: python-dateutil>=2.8.2 in /usr/local/lib/python3.10/dist-packages (from pandas->skfeature-chappers) (2.8.2)\n",
            "Requirement already satisfied: pytz>=2020.1 in /usr/local/lib/python3.10/dist-packages (from pandas->skfeature-chappers) (2023.4)\n",
            "Requirement already satisfied: tzdata>=2022.1 in /usr/local/lib/python3.10/dist-packages (from pandas->skfeature-chappers) (2024.1)\n",
            "Requirement already satisfied: scipy>=1.3.2 in /usr/local/lib/python3.10/dist-packages (from scikit-learn->skfeature-chappers) (1.11.4)\n",
            "Requirement already satisfied: joblib>=1.1.1 in /usr/local/lib/python3.10/dist-packages (from scikit-learn->skfeature-chappers) (1.4.2)\n",
            "Requirement already satisfied: threadpoolctl>=2.0.0 in /usr/local/lib/python3.10/dist-packages (from scikit-learn->skfeature-chappers) (3.5.0)\n",
            "Requirement already satisfied: six>=1.5 in /usr/local/lib/python3.10/dist-packages (from python-dateutil>=2.8.2->pandas->skfeature-chappers) (1.16.0)\n"
          ]
        }
      ]
    },
    {
      "cell_type": "markdown",
      "source": [
        "### Loading the dataset dataframe\n",
        "\n",
        "The dataset in the dataframe pickle file will use be compromised of different samples collected from 2018 to 2019 on IoT devices using two datasets:\n",
        "* CTU-IoT-Malware-Capture-17-1 (Kenjiro)\n",
        "* CTU-IoT-Malware-Capture-33-1 (Kenjiro)\n",
        "\n",
        "Containing the following labels:\n",
        "* Attack\n",
        "* Benign\n",
        "* C&C-HeartBeat\n",
        "* DDoS\n",
        "* Okiru\n",
        "* Okiru-Attack\n",
        "* PartOfAHorizontalPortScan\n",
        "* PartOfAHorizontalPortScan-Attack"
      ],
      "metadata": {
        "id": "keH3qsTj9QMU"
      }
    },
    {
      "cell_type": "code",
      "source": [
        "import pandas as pd\n",
        "import os\n",
        "import gdown\n",
        "\n",
        "id = '1qKJ4KebFSOxfbrNBP5ebQuWdvII9qimf'\n",
        "if not os.path.exists('data/'):\n",
        "  os.mkdir('data/')\n",
        "output_file = 'data/dataframe.pkl'\n",
        "\n",
        "# Download the file\n",
        "gdown.download(id=id, output=output_file, quiet=False)\n",
        "\n",
        "df = pd.read_pickle(output_file)"
      ],
      "metadata": {
        "id": "Vq_CJfEl8nla",
        "colab": {
          "base_uri": "https://localhost:8080/"
        },
        "outputId": "df2101dd-47ee-4180-fb53-ec9cd872e3ff"
      },
      "execution_count": 113,
      "outputs": [
        {
          "output_type": "stream",
          "name": "stderr",
          "text": [
            "Downloading...\n",
            "From (original): https://drive.google.com/uc?id=1qKJ4KebFSOxfbrNBP5ebQuWdvII9qimf\n",
            "From (redirected): https://drive.google.com/uc?id=1qKJ4KebFSOxfbrNBP5ebQuWdvII9qimf&confirm=t&uuid=8b6cab46-0c1d-4cf9-8901-eb18f6531486\n",
            "To: /content/data/dataframe.pkl\n",
            "100%|██████████| 401M/401M [00:02<00:00, 151MB/s]\n"
          ]
        }
      ]
    },
    {
      "cell_type": "markdown",
      "source": [
        "# Analysis"
      ],
      "metadata": {
        "id": "779VKZWIk87-"
      }
    },
    {
      "cell_type": "markdown",
      "source": [
        "## Feature Extraction\n",
        "We isolate the following fields of interest:\n",
        "* proto\n",
        "* service\n",
        "* label  \n",
        "* detailed-label\n",
        "\n"
      ],
      "metadata": {
        "id": "lZYZOPdKlA9e"
      }
    },
    {
      "cell_type": "code",
      "source": [
        "from sklearn.feature_selection import VarianceThreshold\n",
        "from sklearn.preprocessing import LabelEncoder\n",
        "\n",
        "print(df.keys())\n",
        "\n",
        "# clean_df = df[[\"proto\", \"service\", \"label\", \"detailed-label\"]]\n",
        "\n",
        "X = df[df.keys()].drop(['label', 'detailed-label'], axis=1)[:-1]\n",
        "le = LabelEncoder()\n",
        "\n",
        "Y = df['label']\n",
        "\n",
        "for column in X.columns:\n",
        "  if X[column].dtype == 'object':\n",
        "    X[column] = le.fit_transform(X[column])\n",
        "\n",
        "print(X.nunique())\n",
        "\n",
        "# Define the threshold for the maximum number of unique values\n",
        "threshold = [1, 50]\n",
        "\n",
        "# Compute the number of unique values for each column\n",
        "unique_counts = X.nunique()\n",
        "\n",
        "# Filter columns based on the threshold\n",
        "columns_to_keep = unique_counts[(unique_counts > threshold[0]) & (unique_counts <= threshold[1])].index\n",
        "\n",
        "# Create a new DataFrame with only the columns that meet the criteria\n",
        "X_new = X[columns_to_keep]\n",
        "print(X_new.columns)\n",
        "\n",
        "print(Y)\n",
        "\n",
        "# print(X_new_df)\n",
        "\n",
        "# feature = 'detailed-label'\n",
        "# analysis_df = clean_df[feature]\n",
        "# val_count = analysis_df.value_counts().sort_index()\n",
        "# print(val_count)"
      ],
      "metadata": {
        "colab": {
          "base_uri": "https://localhost:8080/"
        },
        "id": "QKhXg3G1lAfn",
        "outputId": "00ee81b7-d20b-4065-a27a-8339f204950a"
      },
      "execution_count": 115,
      "outputs": [
        {
          "output_type": "stream",
          "name": "stdout",
          "text": [
            "Index(['ts', 'uid', 'id.orig_h', 'id.orig_p', 'id.resp_h', 'id.resp_p',\n",
            "       'proto', 'service', 'duration', 'orig_bytes', 'resp_bytes',\n",
            "       'conn_state', 'local_orig', 'local_resp', 'missed_bytes', 'history',\n",
            "       'orig_pkts', 'orig_ip_bytes', 'resp_pkts', 'resp_ip_bytes',\n",
            "       'tunnel_parents', 'label', 'detailed-label'],\n",
            "      dtype='object')\n",
            "ts                1999983\n",
            "uid               1999983\n",
            "id.orig_h             457\n",
            "id.orig_p             224\n",
            "id.resp_h         1987006\n",
            "id.resp_p              15\n",
            "proto                   3\n",
            "service                 3\n",
            "duration             1151\n",
            "orig_bytes             18\n",
            "resp_bytes             13\n",
            "conn_state              7\n",
            "local_orig              1\n",
            "local_resp              1\n",
            "missed_bytes            1\n",
            "history                24\n",
            "orig_pkts              14\n",
            "orig_ip_bytes          41\n",
            "resp_pkts              10\n",
            "resp_ip_bytes          25\n",
            "tunnel_parents          1\n",
            "dtype: int64\n",
            "Index(['id.resp_p', 'proto', 'service', 'orig_bytes', 'resp_bytes',\n",
            "       'conn_state', 'history', 'orig_pkts', 'orig_ip_bytes', 'resp_pkts',\n",
            "       'resp_ip_bytes'],\n",
            "      dtype='object')\n",
            "0          Malicious\n",
            "1          Malicious\n",
            "2          Malicious\n",
            "3          Malicious\n",
            "4          Malicious\n",
            "             ...    \n",
            "1999979    Malicious\n",
            "1999980    Malicious\n",
            "1999981    Malicious\n",
            "1999982    Malicious\n",
            "1999983    Malicious\n",
            "Name: label, Length: 1999984, dtype: object\n"
          ]
        }
      ]
    },
    {
      "cell_type": "markdown",
      "source": [
        "##Analyze each type of traffic:"
      ],
      "metadata": {
        "id": "i3nMl1_pPrsd"
      }
    },
    {
      "cell_type": "code",
      "source": [
        "type_proto_counts = clean_df.groupby('detailed-label')[\"proto\"].value_counts().unstack(fill_value=0)\n",
        "print(type_proto_counts)"
      ],
      "metadata": {
        "colab": {
          "base_uri": "https://localhost:8080/"
        },
        "id": "xe35ZmaIP10w",
        "outputId": "dd6464a8-b795-410b-bc13-8b9fc63676df"
      },
      "execution_count": null,
      "outputs": [
        {
          "output_type": "stream",
          "name": "stdout",
          "text": [
            "proto                      icmp      tcp  udp\n",
            "detailed-label                               \n",
            "-                           471    25325  230\n",
            "C&C-HeartBeat                 0      198    0\n",
            "DDoS                          0   249738    0\n",
            "Okiru                         0   500053    0\n",
            "PartOfAHorizontalPortScan     0  1223969    0\n"
          ]
        }
      ]
    },
    {
      "cell_type": "markdown",
      "source": [
        "##Group into classes:"
      ],
      "metadata": {
        "id": "jhZKpugPSUQu"
      }
    },
    {
      "cell_type": "code",
      "source": [
        "# We don't need to do category mapping because the dataset we are using already has the traffic labels in the dataframe.\n",
        "\n",
        "print( clean_df.groupby('label')[\"proto\"].value_counts().unstack(fill_value=0) )"
      ],
      "metadata": {
        "colab": {
          "base_uri": "https://localhost:8080/"
        },
        "id": "6AZpOox_Sgto",
        "outputId": "061040b4-a18d-4c68-8cda-c6ab7dc826bd"
      },
      "execution_count": null,
      "outputs": [
        {
          "output_type": "stream",
          "name": "stdout",
          "text": [
            "proto      icmp      tcp  udp\n",
            "label                        \n",
            "Benign      471    25325  230\n",
            "Malicious     0  1973958    0\n"
          ]
        }
      ]
    }
  ]
}